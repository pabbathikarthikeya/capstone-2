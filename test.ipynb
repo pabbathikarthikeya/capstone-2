{
 "cells": [
  {
   "cell_type": "code",
   "execution_count": 2,
   "metadata": {},
   "outputs": [],
   "source": [
    "import pandas as pd \n",
    "import numpy as np\n",
    "import matplotlib.pyplot as plt\n",
    "import seaborn as sns\n"
   ]
  },
  {
   "cell_type": "code",
   "execution_count": 11,
   "metadata": {},
   "outputs": [],
   "source": [
    "rav_path = 'C:/Users/pabba/.cache/kagglehub/datasets/uwrfkaggler/ravdess-emotional-speech-audio/versions/1'\n"
   ]
  },
  {
   "cell_type": "code",
   "execution_count": 4,
   "metadata": {},
   "outputs": [],
   "source": [
    "label_map_ravdess = {\n",
    "    '01' : 'neutral', '02' : 'calm', '03' : 'happy', '04' : 'sad', '05' : 'angry', '06' : 'fearful', '07' : 'disguist', '08' : 'surprised'\n",
    "}"
   ]
  },
  {
   "cell_type": "code",
   "execution_count": 7,
   "metadata": {},
   "outputs": [],
   "source": [
    "import os"
   ]
  },
  {
   "cell_type": "code",
   "execution_count": 9,
   "metadata": {},
   "outputs": [
    {
     "name": "stdout",
     "output_type": "stream",
     "text": [
      "Warning: Looks like you're using an outdated `kagglehub` version, please consider updating (latest version: 0.3.7)\n",
      "Downloading from https://www.kaggle.com/api/v1/datasets/download/uwrfkaggler/ravdess-emotional-speech-audio?dataset_version_number=1...\n"
     ]
    },
    {
     "name": "stderr",
     "output_type": "stream",
     "text": [
      "100%|██████████| 429M/429M [00:42<00:00, 10.6MB/s] "
     ]
    },
    {
     "name": "stdout",
     "output_type": "stream",
     "text": [
      "Extracting files...\n"
     ]
    },
    {
     "name": "stderr",
     "output_type": "stream",
     "text": [
      "\n"
     ]
    },
    {
     "name": "stdout",
     "output_type": "stream",
     "text": [
      "Path to dataset files: C:\\Users\\pabba\\.cache\\kagglehub\\datasets\\uwrfkaggler\\ravdess-emotional-speech-audio\\versions\\1\n"
     ]
    }
   ],
   "source": [
    "import kagglehub\n",
    "\n",
    "# Download latest version\n",
    "path = kagglehub.dataset_download(\"uwrfkaggler/ravdess-emotional-speech-audio\")\n",
    "\n",
    "print(\"Path to dataset files:\", path)"
   ]
  },
  {
   "cell_type": "code",
   "execution_count": 12,
   "metadata": {},
   "outputs": [],
   "source": [
    "ravdess_file_paths = []\n",
    "ravdess_labels = []\n",
    "\n",
    "for actor in os.listdir(rav_path):\n",
    "    ## path for one actor\n",
    "    actor_path = os.path.join(rav_path, actor)\n",
    "    ## one actor contains 60 files\n",
    "    for file in os.listdir(actor_path):\n",
    "        if file.startswith('0'):\n",
    "            file_path = os.path.join(actor_path, file)\n",
    "            ## storing the file paths in our list\n",
    "            ravdess_file_paths.append(file_path)\n",
    "            emotion = file[6:8]  ## why 6 to 8 index (because in string '03-01-03-01-01-01-01.wav' emotion is at index [6:8])\n",
    "            ## storing emotion corresponding to that file\n",
    "            ravdess_labels.append(label_map_ravdess[emotion])"
   ]
  },
  {
   "cell_type": "code",
   "execution_count": 13,
   "metadata": {},
   "outputs": [
    {
     "name": "stdout",
     "output_type": "stream",
     "text": [
      "Total file paths : 1440\n",
      "Total labels : 1440\n"
     ]
    }
   ],
   "source": [
    "print(f\"Total file paths : {len(ravdess_file_paths)}\")\n",
    "print(f\"Total labels : {len(ravdess_labels)}\")"
   ]
  },
  {
   "cell_type": "code",
   "execution_count": 14,
   "metadata": {},
   "outputs": [],
   "source": [
    "rav_data = pd.DataFrame({\n",
    "    'paths' : ravdess_file_paths,\n",
    "    'emotions' : ravdess_labels\n",
    "})"
   ]
  },
  {
   "cell_type": "code",
   "execution_count": 17,
   "metadata": {},
   "outputs": [
    {
     "data": {
      "text/html": [
       "<div>\n",
       "<style scoped>\n",
       "    .dataframe tbody tr th:only-of-type {\n",
       "        vertical-align: middle;\n",
       "    }\n",
       "\n",
       "    .dataframe tbody tr th {\n",
       "        vertical-align: top;\n",
       "    }\n",
       "\n",
       "    .dataframe thead th {\n",
       "        text-align: right;\n",
       "    }\n",
       "</style>\n",
       "<table border=\"1\" class=\"dataframe\">\n",
       "  <thead>\n",
       "    <tr style=\"text-align: right;\">\n",
       "      <th></th>\n",
       "      <th>paths</th>\n",
       "      <th>emotions</th>\n",
       "    </tr>\n",
       "  </thead>\n",
       "  <tbody>\n",
       "    <tr>\n",
       "      <th>0</th>\n",
       "      <td>C:/Users/pabba/.cache/kagglehub/datasets/uwrfk...</td>\n",
       "      <td>neutral</td>\n",
       "    </tr>\n",
       "    <tr>\n",
       "      <th>1</th>\n",
       "      <td>C:/Users/pabba/.cache/kagglehub/datasets/uwrfk...</td>\n",
       "      <td>neutral</td>\n",
       "    </tr>\n",
       "    <tr>\n",
       "      <th>2</th>\n",
       "      <td>C:/Users/pabba/.cache/kagglehub/datasets/uwrfk...</td>\n",
       "      <td>neutral</td>\n",
       "    </tr>\n",
       "    <tr>\n",
       "      <th>3</th>\n",
       "      <td>C:/Users/pabba/.cache/kagglehub/datasets/uwrfk...</td>\n",
       "      <td>neutral</td>\n",
       "    </tr>\n",
       "    <tr>\n",
       "      <th>4</th>\n",
       "      <td>C:/Users/pabba/.cache/kagglehub/datasets/uwrfk...</td>\n",
       "      <td>calm</td>\n",
       "    </tr>\n",
       "    <tr>\n",
       "      <th>5</th>\n",
       "      <td>C:/Users/pabba/.cache/kagglehub/datasets/uwrfk...</td>\n",
       "      <td>calm</td>\n",
       "    </tr>\n",
       "    <tr>\n",
       "      <th>6</th>\n",
       "      <td>C:/Users/pabba/.cache/kagglehub/datasets/uwrfk...</td>\n",
       "      <td>calm</td>\n",
       "    </tr>\n",
       "    <tr>\n",
       "      <th>7</th>\n",
       "      <td>C:/Users/pabba/.cache/kagglehub/datasets/uwrfk...</td>\n",
       "      <td>calm</td>\n",
       "    </tr>\n",
       "    <tr>\n",
       "      <th>8</th>\n",
       "      <td>C:/Users/pabba/.cache/kagglehub/datasets/uwrfk...</td>\n",
       "      <td>calm</td>\n",
       "    </tr>\n",
       "    <tr>\n",
       "      <th>9</th>\n",
       "      <td>C:/Users/pabba/.cache/kagglehub/datasets/uwrfk...</td>\n",
       "      <td>calm</td>\n",
       "    </tr>\n",
       "  </tbody>\n",
       "</table>\n",
       "</div>"
      ],
      "text/plain": [
       "                                               paths emotions\n",
       "0  C:/Users/pabba/.cache/kagglehub/datasets/uwrfk...  neutral\n",
       "1  C:/Users/pabba/.cache/kagglehub/datasets/uwrfk...  neutral\n",
       "2  C:/Users/pabba/.cache/kagglehub/datasets/uwrfk...  neutral\n",
       "3  C:/Users/pabba/.cache/kagglehub/datasets/uwrfk...  neutral\n",
       "4  C:/Users/pabba/.cache/kagglehub/datasets/uwrfk...     calm\n",
       "5  C:/Users/pabba/.cache/kagglehub/datasets/uwrfk...     calm\n",
       "6  C:/Users/pabba/.cache/kagglehub/datasets/uwrfk...     calm\n",
       "7  C:/Users/pabba/.cache/kagglehub/datasets/uwrfk...     calm\n",
       "8  C:/Users/pabba/.cache/kagglehub/datasets/uwrfk...     calm\n",
       "9  C:/Users/pabba/.cache/kagglehub/datasets/uwrfk...     calm"
      ]
     },
     "execution_count": 17,
     "metadata": {},
     "output_type": "execute_result"
    }
   ],
   "source": [
    "rav_data.head(10)"
   ]
  },
  {
   "cell_type": "code",
   "execution_count": 19,
   "metadata": {},
   "outputs": [
    {
     "name": "stdout",
     "output_type": "stream",
     "text": [
      "['neutral' 'calm' 'happy' 'sad' 'angry' 'fearful' 'disguist' 'surprised']\n"
     ]
    }
   ],
   "source": [
    "print(rav_data['emotions'].unique())"
   ]
  },
  {
   "cell_type": "code",
   "execution_count": 21,
   "metadata": {},
   "outputs": [
    {
     "data": {
      "text/plain": [
       "paths       object\n",
       "emotions    object\n",
       "dtype: object"
      ]
     },
     "execution_count": 21,
     "metadata": {},
     "output_type": "execute_result"
    }
   ],
   "source": [
    "rav_data.dtypes"
   ]
  },
  {
   "cell_type": "code",
   "execution_count": 23,
   "metadata": {},
   "outputs": [],
   "source": [
    "import os\n",
    "import librosa\n",
    "import numpy as np\n",
    "import pandas as pd\n",
    "import joblib\n",
    "from sklearn.preprocessing import LabelEncoder"
   ]
  },
  {
   "cell_type": "code",
   "execution_count": 24,
   "metadata": {},
   "outputs": [],
   "source": [
    "def extract_features(file_path):\n",
    "    y, sr = librosa.load(file_path, duration=3, offset=0.5)\n",
    "    mfcc = librosa.feature.mfcc(y=y, sr=sr, n_mfcc=40)\n",
    "    return np.mean(mfcc.T, axis=0)\n"
   ]
  },
  {
   "cell_type": "code",
   "execution_count": 28,
   "metadata": {},
   "outputs": [],
   "source": [
    "path = 'C:/Users/pabba/.cache/kagglehub/datasets/uwrfkaggler/ravdess-emotional-speech-audio/versions/1'"
   ]
  },
  {
   "cell_type": "code",
   "execution_count": 1,
   "metadata": {},
   "outputs": [],
   "source": [
    "import os\n",
    "import pandas as pd\n",
    "\n",
    "# Define dataset path\n",
    "rav_path = r\"C:/Users/pabba/.cache/kagglehub/datasets/uwrfkaggler/ravdess-emotional-speech-audio/versions/1\"\n"
   ]
  },
  {
   "cell_type": "code",
   "execution_count": 2,
   "metadata": {},
   "outputs": [],
   "source": [
    "label_map_ravdess = {\n",
    "    \"01\": \"neutral\", \"02\": \"calm\", \"03\": \"happy\", \"04\": \"sad\",\n",
    "    \"05\": \"angry\", \"06\": \"fearful\", \"07\": \"disgust\", \"08\": \"surprised\"\n",
    "}\n",
    "\n",
    "# Lists to store data\n",
    "ravdess_file_paths = []\n",
    "ravdess_labels = []\n",
    "\n",
    "# Loop through actor directories\n",
    "for actor in os.listdir(rav_path):\n",
    "    actor_path = os.path.join(rav_path, actor)\n",
    "    \n",
    "    if os.path.isdir(actor_path):  # Ensure it's a directory\n",
    "        for file in os.listdir(actor_path):\n",
    "            if file.startswith('0') and file.endswith(\".wav\"):  # Ensure it's a valid audio file\n",
    "                file_path = os.path.join(actor_path, file)\n",
    "                \n",
    "                # Extract emotion from filename\n",
    "                emotion_code = file[6:8]\n",
    "                emotion = label_map_ravdess.get(emotion_code, \"unknown\")\n",
    "\n",
    "                # Store data\n",
    "                ravdess_file_paths.append(file_path)\n",
    "                ravdess_labels.append(emotion)"
   ]
  },
  {
   "cell_type": "code",
   "execution_count": 3,
   "metadata": {},
   "outputs": [
    {
     "name": "stdout",
     "output_type": "stream",
     "text": [
      "                                               paths emotions\n",
      "0  C:/Users/pabba/.cache/kagglehub/datasets/uwrfk...  neutral\n",
      "1  C:/Users/pabba/.cache/kagglehub/datasets/uwrfk...  neutral\n",
      "2  C:/Users/pabba/.cache/kagglehub/datasets/uwrfk...  neutral\n",
      "3  C:/Users/pabba/.cache/kagglehub/datasets/uwrfk...  neutral\n",
      "4  C:/Users/pabba/.cache/kagglehub/datasets/uwrfk...     calm\n"
     ]
    }
   ],
   "source": [
    "df = pd.DataFrame({\"paths\": ravdess_file_paths, \"emotions\": ravdess_labels})\n",
    "print(df.head())"
   ]
  },
  {
   "cell_type": "code",
   "execution_count": 4,
   "metadata": {},
   "outputs": [],
   "source": [
    "df.to_csv(\"ravdess_emotion_data.csv\", index=False)\n"
   ]
  },
  {
   "cell_type": "code",
   "execution_count": null,
   "metadata": {},
   "outputs": [],
   "source": []
  },
  {
   "cell_type": "code",
   "execution_count": null,
   "metadata": {},
   "outputs": [],
   "source": []
  }
 ],
 "metadata": {
  "kernelspec": {
   "display_name": "Python 3",
   "language": "python",
   "name": "python3"
  },
  "language_info": {
   "codemirror_mode": {
    "name": "ipython",
    "version": 3
   },
   "file_extension": ".py",
   "mimetype": "text/x-python",
   "name": "python",
   "nbconvert_exporter": "python",
   "pygments_lexer": "ipython3",
   "version": "3.11.4"
  }
 },
 "nbformat": 4,
 "nbformat_minor": 2
}
